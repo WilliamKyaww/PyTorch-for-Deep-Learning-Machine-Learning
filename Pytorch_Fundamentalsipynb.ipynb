{
  "cells": [
    {
      "cell_type": "markdown",
      "metadata": {
        "id": "view-in-github",
        "colab_type": "text"
      },
      "source": [
        "<a href=\"https://colab.research.google.com/github/WilliamKyaww/PyTorch-for-Deep-Learning-Machine-Learning/blob/main/Pytorch_Fundamentalsipynb.ipynb\" target=\"_parent\"><img src=\"https://colab.research.google.com/assets/colab-badge.svg\" alt=\"Open In Colab\"/></a>"
      ]
    },
    {
      "cell_type": "code",
      "execution_count": null,
      "metadata": {
        "colab": {
          "base_uri": "https://localhost:8080/"
        },
        "id": "n03ghdlCVgDN",
        "outputId": "b4dc3649-6192-44c1-a975-c6680a39d066"
      },
      "outputs": [
        {
          "output_type": "stream",
          "name": "stdout",
          "text": [
            "2.6.0+cu124\n"
          ]
        }
      ],
      "source": [
        "import torch\n",
        "import pandas as pd\n",
        "import numpy as np\n",
        "import matplotlib as plt\n",
        "\n",
        "import time\n",
        "\n",
        "print(torch.__version__)"
      ]
    },
    {
      "cell_type": "markdown",
      "metadata": {
        "id": "rMMCX_0bZwbG"
      },
      "source": [
        "## **Basics**"
      ]
    },
    {
      "cell_type": "code",
      "execution_count": null,
      "metadata": {
        "colab": {
          "base_uri": "https://localhost:8080/"
        },
        "id": "KPutxpG2VgKC",
        "outputId": "24bbcf49-8188-4fb6-a253-3ebb5ffcb4dc"
      },
      "outputs": [
        {
          "output_type": "execute_result",
          "data": {
            "text/plain": [
              "tensor(7)"
            ]
          },
          "metadata": {},
          "execution_count": 2
        }
      ],
      "source": [
        "# Scalar\n",
        "scalar = torch.tensor(7)\n",
        "scalar"
      ]
    },
    {
      "cell_type": "code",
      "execution_count": null,
      "metadata": {
        "colab": {
          "base_uri": "https://localhost:8080/"
        },
        "id": "5Vz9PhS5Wkg8",
        "outputId": "720e948f-08ca-441e-c733-fedb3e55f619"
      },
      "outputs": [
        {
          "output_type": "execute_result",
          "data": {
            "text/plain": [
              "tensor([7, 7])"
            ]
          },
          "metadata": {},
          "execution_count": 3
        }
      ],
      "source": [
        "# Vector\n",
        "vector = torch.tensor([7, 7])\n",
        "vector"
      ]
    },
    {
      "cell_type": "code",
      "execution_count": null,
      "metadata": {
        "colab": {
          "base_uri": "https://localhost:8080/"
        },
        "id": "xz8COvwrXFVA",
        "outputId": "97584eee-136c-42b1-dd2d-1793f56b0d26"
      },
      "outputs": [
        {
          "output_type": "execute_result",
          "data": {
            "text/plain": [
              "1"
            ]
          },
          "metadata": {},
          "execution_count": 4
        }
      ],
      "source": [
        "vector.ndim"
      ]
    },
    {
      "cell_type": "code",
      "execution_count": null,
      "metadata": {
        "colab": {
          "base_uri": "https://localhost:8080/"
        },
        "id": "1gA63VajXMsY",
        "outputId": "c84fb20a-fd98-4c72-f5a7-7f94f93ab29b"
      },
      "outputs": [
        {
          "output_type": "execute_result",
          "data": {
            "text/plain": [
              "torch.Size([2])"
            ]
          },
          "metadata": {},
          "execution_count": 5
        }
      ],
      "source": [
        "vector.shape"
      ]
    },
    {
      "cell_type": "code",
      "execution_count": null,
      "metadata": {
        "colab": {
          "base_uri": "https://localhost:8080/"
        },
        "id": "gFcuoduQXOpw",
        "outputId": "67a5e29b-c759-468e-b5c8-f603ac555646"
      },
      "outputs": [
        {
          "output_type": "execute_result",
          "data": {
            "text/plain": [
              "tensor([[ 7,  8],\n",
              "        [ 9, 10]])"
            ]
          },
          "metadata": {},
          "execution_count": 6
        }
      ],
      "source": [
        "# MATRIX\n",
        "MATRIX = torch.tensor([[7,8],\n",
        "                      [9,10]])\n",
        "MATRIX"
      ]
    },
    {
      "cell_type": "code",
      "execution_count": null,
      "metadata": {
        "colab": {
          "base_uri": "https://localhost:8080/"
        },
        "id": "G3mB-RCHXR4f",
        "outputId": "00d505fb-88ac-4d6b-e32a-012ec1b6a4f4"
      },
      "outputs": [
        {
          "output_type": "execute_result",
          "data": {
            "text/plain": [
              "2"
            ]
          },
          "metadata": {},
          "execution_count": 7
        }
      ],
      "source": [
        "MATRIX.ndim"
      ]
    },
    {
      "cell_type": "code",
      "execution_count": null,
      "metadata": {
        "colab": {
          "base_uri": "https://localhost:8080/"
        },
        "id": "X5nQZ15kXkCs",
        "outputId": "83c5ae94-d321-4b18-eee7-be5e36004440"
      },
      "outputs": [
        {
          "output_type": "execute_result",
          "data": {
            "text/plain": [
              "torch.Size([2, 2])"
            ]
          },
          "metadata": {},
          "execution_count": 8
        }
      ],
      "source": [
        "MATRIX.shape"
      ]
    },
    {
      "cell_type": "code",
      "execution_count": null,
      "metadata": {
        "colab": {
          "base_uri": "https://localhost:8080/"
        },
        "id": "_S1OmQkfXmq9",
        "outputId": "2bfc3901-f28b-46cb-a4c5-91f092fabcd3"
      },
      "outputs": [
        {
          "output_type": "execute_result",
          "data": {
            "text/plain": [
              "tensor([[[1, 2, 3],\n",
              "         [3, 6, 9],\n",
              "         [2, 4, 5]]])"
            ]
          },
          "metadata": {},
          "execution_count": 9
        }
      ],
      "source": [
        "# TENSOR\n",
        "TENSOR = torch.tensor([[[1,2,3],\n",
        "                        [3,6,9],\n",
        "                        [2,4,5]]])\n",
        "TENSOR"
      ]
    },
    {
      "cell_type": "code",
      "execution_count": null,
      "metadata": {
        "colab": {
          "base_uri": "https://localhost:8080/"
        },
        "id": "rEvvE4eQXxrh",
        "outputId": "f42852cb-f8a2-418e-aab4-ca59a78319d6"
      },
      "outputs": [
        {
          "output_type": "execute_result",
          "data": {
            "text/plain": [
              "3"
            ]
          },
          "metadata": {},
          "execution_count": 10
        }
      ],
      "source": [
        "TENSOR.ndim"
      ]
    },
    {
      "cell_type": "code",
      "execution_count": null,
      "metadata": {
        "colab": {
          "base_uri": "https://localhost:8080/"
        },
        "id": "YsLvvvxQX-EQ",
        "outputId": "65c9d08f-5562-4eba-bc0e-fd0239a24daa"
      },
      "outputs": [
        {
          "output_type": "execute_result",
          "data": {
            "text/plain": [
              "torch.Size([1, 3, 3])"
            ]
          },
          "metadata": {},
          "execution_count": 11
        }
      ],
      "source": [
        "TENSOR.shape"
      ]
    },
    {
      "cell_type": "code",
      "execution_count": null,
      "metadata": {
        "colab": {
          "base_uri": "https://localhost:8080/"
        },
        "id": "w7ggTYdjYAzi",
        "outputId": "04dcc7c8-7424-45c7-98d9-b1198ea92c94"
      },
      "outputs": [
        {
          "output_type": "execute_result",
          "data": {
            "text/plain": [
              "tensor([[[1, 2, 3],\n",
              "         [3, 6, 9],\n",
              "         [2, 4, 5]],\n",
              "\n",
              "        [[2, 2, 2],\n",
              "         [2, 2, 2],\n",
              "         [2, 2, 2]]])"
            ]
          },
          "metadata": {},
          "execution_count": 12
        }
      ],
      "source": [
        "TENSOR2 = torch.tensor([[[1,2,3],\n",
        "                        [3,6,9],\n",
        "                        [2,4,5]],\n",
        "                         [[2,2,2],\n",
        "                        [2,2,2],\n",
        "                        [2,2,2]]])\n",
        "TENSOR2"
      ]
    },
    {
      "cell_type": "code",
      "execution_count": null,
      "metadata": {
        "colab": {
          "base_uri": "https://localhost:8080/"
        },
        "id": "W2MVzyq0ZD1v",
        "outputId": "d94a4b52-e4b0-4cc0-ddfe-502b5f5fd00d"
      },
      "outputs": [
        {
          "output_type": "execute_result",
          "data": {
            "text/plain": [
              "3"
            ]
          },
          "metadata": {},
          "execution_count": 13
        }
      ],
      "source": [
        "TENSOR2.ndim"
      ]
    },
    {
      "cell_type": "code",
      "execution_count": null,
      "metadata": {
        "colab": {
          "base_uri": "https://localhost:8080/"
        },
        "id": "K13gzwSvZO_9",
        "outputId": "8128918b-d8e3-49c8-cdf4-8a31695b6e32"
      },
      "outputs": [
        {
          "output_type": "execute_result",
          "data": {
            "text/plain": [
              "torch.Size([2, 3, 3])"
            ]
          },
          "metadata": {},
          "execution_count": 14
        }
      ],
      "source": [
        "TENSOR2.shape"
      ]
    },
    {
      "cell_type": "code",
      "execution_count": null,
      "metadata": {
        "colab": {
          "base_uri": "https://localhost:8080/"
        },
        "id": "DgCq3exkZYHK",
        "outputId": "719c3f85-3faf-4645-ef0b-b1a2d9a28260"
      },
      "outputs": [
        {
          "output_type": "execute_result",
          "data": {
            "text/plain": [
              "tensor([[1, 2, 3],\n",
              "        [3, 6, 9],\n",
              "        [2, 4, 5]])"
            ]
          },
          "metadata": {},
          "execution_count": 15
        }
      ],
      "source": [
        "TENSOR[0]"
      ]
    },
    {
      "cell_type": "code",
      "execution_count": null,
      "metadata": {
        "colab": {
          "base_uri": "https://localhost:8080/"
        },
        "id": "gJHOF1yrZb70",
        "outputId": "550cf4c3-6e99-47aa-b462-1eb51d8554c1"
      },
      "outputs": [
        {
          "output_type": "execute_result",
          "data": {
            "text/plain": [
              "tensor([[2, 2, 2],\n",
              "        [2, 2, 2],\n",
              "        [2, 2, 2]])"
            ]
          },
          "metadata": {},
          "execution_count": 16
        }
      ],
      "source": [
        "TENSOR2[1]"
      ]
    },
    {
      "cell_type": "markdown",
      "metadata": {
        "id": "nzf_146wZqEK"
      },
      "source": [
        "## **Random Tensors**"
      ]
    },
    {
      "cell_type": "code",
      "execution_count": null,
      "metadata": {
        "colab": {
          "base_uri": "https://localhost:8080/"
        },
        "id": "eZDQ7a1OZriz",
        "outputId": "fba97f3c-d401-4533-d3a2-dce3ae340980"
      },
      "outputs": [
        {
          "output_type": "execute_result",
          "data": {
            "text/plain": [
              "tensor([[0.3154, 0.7472, 0.6469, 0.4001],\n",
              "        [0.1791, 0.3100, 0.4079, 0.0695],\n",
              "        [0.4123, 0.9489, 0.3028, 0.1239]])"
            ]
          },
          "metadata": {},
          "execution_count": 17
        }
      ],
      "source": [
        "random_tensor = torch.rand(3,4)\n",
        "random_tensor\n",
        "# This gives us 3 sets of 4 values each"
      ]
    },
    {
      "cell_type": "code",
      "execution_count": null,
      "metadata": {
        "colab": {
          "base_uri": "https://localhost:8080/"
        },
        "id": "sBNNhcMsZxzp",
        "outputId": "d9f0caaa-e1e8-4e11-fe05-9beb511c8809"
      },
      "outputs": [
        {
          "output_type": "execute_result",
          "data": {
            "text/plain": [
              "2"
            ]
          },
          "metadata": {},
          "execution_count": 18
        }
      ],
      "source": [
        "random_tensor.ndim"
      ]
    },
    {
      "cell_type": "code",
      "execution_count": null,
      "metadata": {
        "colab": {
          "base_uri": "https://localhost:8080/"
        },
        "id": "rrt28cJRaaDw",
        "outputId": "6ad55220-97df-448b-b4bd-b74186e4c296"
      },
      "outputs": [
        {
          "output_type": "execute_result",
          "data": {
            "text/plain": [
              "(torch.Size([224, 224, 3]), 3)"
            ]
          },
          "metadata": {},
          "execution_count": 19
        }
      ],
      "source": [
        "# Random tensor with similar shape to an image tensor\n",
        "random_imagine_size_tensor = torch.rand(size=(224,224,3)) #height, #width, #colour\n",
        "random_imagine_size_tensor.shape, random_imagine_size_tensor.ndim"
      ]
    },
    {
      "cell_type": "markdown",
      "metadata": {
        "id": "mDSBCILcbcGH"
      },
      "source": [
        "## **Zeroes and Ones**\n"
      ]
    },
    {
      "cell_type": "code",
      "execution_count": null,
      "metadata": {
        "colab": {
          "base_uri": "https://localhost:8080/"
        },
        "id": "1OMYZuUubeBS",
        "outputId": "3cc0c072-c021-4437-d24a-1023719234e3"
      },
      "outputs": [
        {
          "output_type": "execute_result",
          "data": {
            "text/plain": [
              "tensor([[0., 0., 0., 0.],\n",
              "        [0., 0., 0., 0.],\n",
              "        [0., 0., 0., 0.]])"
            ]
          },
          "metadata": {},
          "execution_count": 20
        }
      ],
      "source": [
        "# Tensor of all zeroes with shape 3,4\n",
        "zeroes = torch.zeros(size=(3,4))\n",
        "zeroes"
      ]
    },
    {
      "cell_type": "code",
      "execution_count": null,
      "metadata": {
        "colab": {
          "base_uri": "https://localhost:8080/"
        },
        "id": "AHc8otAkbsf7",
        "outputId": "56f89000-9000-4c6c-e0ca-3389e5b98b34"
      },
      "outputs": [
        {
          "output_type": "execute_result",
          "data": {
            "text/plain": [
              "tensor([[1., 1., 1., 1.],\n",
              "        [1., 1., 1., 1.],\n",
              "        [1., 1., 1., 1.]])"
            ]
          },
          "metadata": {},
          "execution_count": 21
        }
      ],
      "source": [
        "ones = torch.ones(size=(3,4))\n",
        "ones"
      ]
    },
    {
      "cell_type": "code",
      "execution_count": null,
      "metadata": {
        "colab": {
          "base_uri": "https://localhost:8080/"
        },
        "id": "kh4C_SqGbzPI",
        "outputId": "3d898ea1-7e32-46b6-c4aa-654f0990c4e7"
      },
      "outputs": [
        {
          "output_type": "execute_result",
          "data": {
            "text/plain": [
              "torch.float32"
            ]
          },
          "metadata": {},
          "execution_count": 22
        }
      ],
      "source": [
        "ones.dtype"
      ]
    },
    {
      "cell_type": "markdown",
      "metadata": {
        "id": "70Rh6KALcQOJ"
      },
      "source": [
        "## **Creating a range of tensors and tensors-like**"
      ]
    },
    {
      "cell_type": "code",
      "execution_count": null,
      "metadata": {
        "colab": {
          "base_uri": "https://localhost:8080/"
        },
        "id": "CgmUQ8DrcVDk",
        "outputId": "525e3597-3a1d-4aab-e621-246391ab9b68"
      },
      "outputs": [
        {
          "output_type": "execute_result",
          "data": {
            "text/plain": [
              "tensor([0, 1, 2, 3, 4, 5, 6, 7, 8, 9])"
            ]
          },
          "metadata": {},
          "execution_count": 23
        }
      ],
      "source": [
        "one_to_ten = torch.arange(0,10)\n",
        "one_to_ten"
      ]
    },
    {
      "cell_type": "code",
      "execution_count": null,
      "metadata": {
        "colab": {
          "base_uri": "https://localhost:8080/"
        },
        "id": "-VL85GUmctGr",
        "outputId": "a91d1119-8d85-4246-8957-d410b6430e38"
      },
      "outputs": [
        {
          "output_type": "execute_result",
          "data": {
            "text/plain": [
              "tensor([ 0,  5, 10, 15, 20, 25, 30, 35, 40, 45, 50, 55, 60, 65, 70, 75, 80, 85,\n",
              "        90, 95])"
            ]
          },
          "metadata": {},
          "execution_count": 24
        }
      ],
      "source": [
        "range = torch.arange(start = 0,end = 100, step =5)\n",
        "range"
      ]
    },
    {
      "cell_type": "code",
      "execution_count": null,
      "metadata": {
        "colab": {
          "base_uri": "https://localhost:8080/"
        },
        "id": "iFrXHBpgdEDi",
        "outputId": "d267ff12-6e30-489a-cc86-6dcd220cc91f"
      },
      "outputs": [
        {
          "output_type": "execute_result",
          "data": {
            "text/plain": [
              "tensor([0, 0, 0, 0, 0, 0, 0, 0, 0, 0])"
            ]
          },
          "metadata": {},
          "execution_count": 25
        }
      ],
      "source": [
        "# Creating tensors where you want to replicate the shape but doeesn't specify it\n",
        "ten_zeros = torch.zeros_like(input=one_to_ten)\n",
        "ten_zeros"
      ]
    },
    {
      "cell_type": "markdown",
      "metadata": {
        "id": "rLA9QDafioUr"
      },
      "source": [
        "## **Tensor Datatype**\n",
        "\n",
        "**Note**: Tensor datatypes is one of the 3 big error types to run into in Pytorch and Deep Learning\n",
        "\n",
        "1. Tensors not right datatype\n",
        "2. Tensors not right shape\n",
        "3. Tensors not on the right device\n",
        "\n",
        "\n",
        "Data Types:\n",
        "1. 32-bit takes a bit more memory and therefore more detail but slower\n",
        "2. 16-bit takes less memory, less detail but faster\n",
        "There are more datatypes...\n",
        "\n",
        "Device:\n",
        "1. Default is cpu\n",
        "2. Can be cuda (to use Nvidia GPUs)"
      ]
    },
    {
      "cell_type": "code",
      "execution_count": null,
      "metadata": {
        "colab": {
          "base_uri": "https://localhost:8080/"
        },
        "id": "tQU3fXDIhnXe",
        "outputId": "7ba906d1-d5ac-439b-f78f-e38db2783455"
      },
      "outputs": [
        {
          "output_type": "execute_result",
          "data": {
            "text/plain": [
              "(tensor([3., 6., 9.]), torch.float32)"
            ]
          },
          "metadata": {},
          "execution_count": 26
        }
      ],
      "source": [
        "float_32_tensor = torch.tensor([3.0,6.0,9.0],\n",
        "                                dtype = None, # what datatype is the tensor\n",
        "                               device = None, # what device is the tensor on\n",
        "                               requires_grad = False # whether or not to track gradients with this tensor's operations\n",
        "                               )\n",
        "float_32_tensor, float_32_tensor.dtype"
      ]
    },
    {
      "cell_type": "code",
      "execution_count": null,
      "metadata": {
        "colab": {
          "base_uri": "https://localhost:8080/"
        },
        "id": "ZEHNlqhPre_e",
        "outputId": "95d2f0f2-80f1-4d3a-f2a4-c5f77fbae8c7"
      },
      "outputs": [
        {
          "output_type": "execute_result",
          "data": {
            "text/plain": [
              "tensor([3., 6., 9.], dtype=torch.float16)"
            ]
          },
          "metadata": {},
          "execution_count": 27
        }
      ],
      "source": [
        "float_16_tensor = float_32_tensor.type(torch.float16)\n",
        "float_16_tensor"
      ]
    },
    {
      "cell_type": "code",
      "execution_count": null,
      "metadata": {
        "colab": {
          "base_uri": "https://localhost:8080/"
        },
        "id": "3cpL1dOP5oc5",
        "outputId": "b9882a83-dce6-4d4f-ea21-e8133badd6c5"
      },
      "outputs": [
        {
          "output_type": "execute_result",
          "data": {
            "text/plain": [
              "tensor([3., 6., 9.], dtype=torch.float16)"
            ]
          },
          "metadata": {},
          "execution_count": 28
        }
      ],
      "source": [
        "float_16_tensor = float_32_tensor.type(torch.half)\n",
        "float_16_tensor"
      ]
    },
    {
      "cell_type": "code",
      "execution_count": null,
      "metadata": {
        "colab": {
          "base_uri": "https://localhost:8080/"
        },
        "id": "S7tWQ4VP50ML",
        "outputId": "a90bfb93-adb5-44c3-fc76-a83ffc802b19"
      },
      "outputs": [
        {
          "output_type": "execute_result",
          "data": {
            "text/plain": [
              "tensor([ 9., 36., 81.])"
            ]
          },
          "metadata": {},
          "execution_count": 29
        }
      ],
      "source": [
        "float_16_tensor * float_32_tensor"
      ]
    },
    {
      "cell_type": "code",
      "execution_count": null,
      "metadata": {
        "colab": {
          "base_uri": "https://localhost:8080/"
        },
        "id": "uP9eLh5E6bsR",
        "outputId": "06026ca5-1934-496c-dbdc-53f9d7f8863d"
      },
      "outputs": [
        {
          "output_type": "execute_result",
          "data": {
            "text/plain": [
              "tensor([3, 6, 9], dtype=torch.int32)"
            ]
          },
          "metadata": {},
          "execution_count": 30
        }
      ],
      "source": [
        "int_32_tensor = torch.tensor([3,6,9], dtype = torch.int32)\n",
        "int_32_tensor"
      ]
    },
    {
      "cell_type": "code",
      "execution_count": null,
      "metadata": {
        "colab": {
          "base_uri": "https://localhost:8080/"
        },
        "id": "NkRYc_zi6wKn",
        "outputId": "61d7069d-1294-4147-e5c1-e27b4479176c"
      },
      "outputs": [
        {
          "output_type": "execute_result",
          "data": {
            "text/plain": [
              "tensor([ 9., 36., 81.])"
            ]
          },
          "metadata": {},
          "execution_count": 31
        }
      ],
      "source": [
        "float_32_tensor * int_32_tensor"
      ]
    },
    {
      "cell_type": "markdown",
      "metadata": {
        "id": "OY9rMpiG7EIh"
      },
      "source": [
        "### Tensor Attributes\n",
        "\n",
        "1. Tensors not right datatype - to get datatype from a tensor, use \"tensor.dtype\"\n",
        "2. Tensors not right shape - to get shape from a tensor, use \"tensor.shape\"\n",
        "3. Tensors not on the right device - to get device from a tensor, use \"tensor.device\""
      ]
    },
    {
      "cell_type": "code",
      "execution_count": null,
      "metadata": {
        "colab": {
          "base_uri": "https://localhost:8080/"
        },
        "id": "seZ6V2He7dz7",
        "outputId": "71f51761-b58e-4400-f231-8dd6090474ff"
      },
      "outputs": [
        {
          "output_type": "execute_result",
          "data": {
            "text/plain": [
              "tensor([[0.3220, 0.2235, 0.6204, 0.6512],\n",
              "        [0.2135, 0.2428, 0.3805, 0.4231],\n",
              "        [0.8671, 0.0744, 0.2227, 0.0035]])"
            ]
          },
          "metadata": {},
          "execution_count": 32
        }
      ],
      "source": [
        "# Create a tensor\n",
        "some_tensor = torch.rand(3,4)\n",
        "some_tensor"
      ]
    },
    {
      "cell_type": "code",
      "execution_count": null,
      "metadata": {
        "colab": {
          "base_uri": "https://localhost:8080/"
        },
        "id": "ctryYQt37nEx",
        "outputId": "9c39d9d5-fee1-42a1-d402-5716385eaed5"
      },
      "outputs": [
        {
          "output_type": "stream",
          "name": "stdout",
          "text": [
            "tensor([[0.3220, 0.2235, 0.6204, 0.6512],\n",
            "        [0.2135, 0.2428, 0.3805, 0.4231],\n",
            "        [0.8671, 0.0744, 0.2227, 0.0035]])\n",
            "Datatype of tensor: torch.float32\n",
            "Shape of tensor: torch.Size([3, 4])\n",
            "Device tensor is on: cpu\n"
          ]
        }
      ],
      "source": [
        "# Find out details about some tensor\n",
        "print(some_tensor)\n",
        "print(f\"Datatype of tensor: {some_tensor.dtype}\")\n",
        "print(f\"Shape of tensor: {some_tensor.shape}\")\n",
        "print(f\"Device tensor is on: {some_tensor.device}\")"
      ]
    },
    {
      "cell_type": "markdown",
      "metadata": {
        "id": "z-iD-m2S8jX6"
      },
      "source": [
        "### Manipulating Tensors - Tensor Operations\n",
        "\n",
        "Tensor operations include:\n",
        "- Addition\n",
        "- Subtraction\n",
        "- Multiplication (element-wise)\n",
        "- Division\n",
        "- Matrix Multiplication"
      ]
    },
    {
      "cell_type": "code",
      "execution_count": null,
      "metadata": {
        "colab": {
          "base_uri": "https://localhost:8080/"
        },
        "id": "Cpiex0nV9XPO",
        "outputId": "9144ce92-9eb7-40bb-d145-9fe4e8e5847a"
      },
      "outputs": [
        {
          "output_type": "execute_result",
          "data": {
            "text/plain": [
              "tensor([11, 12, 13])"
            ]
          },
          "metadata": {},
          "execution_count": 34
        }
      ],
      "source": [
        "# Create a tensor and adds 10 to all values\n",
        "tensor = torch.tensor([1,2,3])\n",
        "tensor + 10"
      ]
    },
    {
      "cell_type": "code",
      "execution_count": null,
      "metadata": {
        "colab": {
          "base_uri": "https://localhost:8080/"
        },
        "id": "rzndhDu991jt",
        "outputId": "0bc0e8fc-9ec3-4106-bef7-0d3874d6f723"
      },
      "outputs": [
        {
          "output_type": "execute_result",
          "data": {
            "text/plain": [
              "tensor([10, 20, 30])"
            ]
          },
          "metadata": {},
          "execution_count": 35
        }
      ],
      "source": [
        "# Multiplies all values by 10 and prints it (doesn't reassign tensor value)\n",
        "tensor * 10"
      ]
    },
    {
      "cell_type": "code",
      "execution_count": null,
      "metadata": {
        "colab": {
          "base_uri": "https://localhost:8080/"
        },
        "id": "66x61lF5-z9F",
        "outputId": "a4c2b133-a15d-41e4-9972-b062615a9b01"
      },
      "outputs": [
        {
          "output_type": "execute_result",
          "data": {
            "text/plain": [
              "tensor([1, 2, 3])"
            ]
          },
          "metadata": {},
          "execution_count": 36
        }
      ],
      "source": [
        "tensor"
      ]
    },
    {
      "cell_type": "code",
      "execution_count": null,
      "metadata": {
        "colab": {
          "base_uri": "https://localhost:8080/"
        },
        "id": "88IAte0d98SM",
        "outputId": "8988b189-84ed-49af-ce2b-c1c5ac3069a9"
      },
      "outputs": [
        {
          "output_type": "execute_result",
          "data": {
            "text/plain": [
              "tensor([-9, -8, -7])"
            ]
          },
          "metadata": {},
          "execution_count": 37
        }
      ],
      "source": [
        "# Subtracts all values by 10\n",
        "tensor - 10"
      ]
    },
    {
      "cell_type": "code",
      "execution_count": null,
      "metadata": {
        "colab": {
          "base_uri": "https://localhost:8080/"
        },
        "id": "Am1MUDxi9904",
        "outputId": "4817703f-6b18-418f-a39b-74962cb96654"
      },
      "outputs": [
        {
          "output_type": "execute_result",
          "data": {
            "text/plain": [
              "tensor([0.1000, 0.2000, 0.3000])"
            ]
          },
          "metadata": {},
          "execution_count": 38
        }
      ],
      "source": [
        "# Divides all values by 10\n",
        "tensor / 10"
      ]
    },
    {
      "cell_type": "code",
      "execution_count": null,
      "metadata": {
        "colab": {
          "base_uri": "https://localhost:8080/"
        },
        "id": "ApuHWzdC_icb",
        "outputId": "cd8c2243-7a45-4cd8-fb94-83eeeae42b11"
      },
      "outputs": [
        {
          "output_type": "stream",
          "name": "stdout",
          "text": [
            "tensor([10, 20, 30])\n",
            "tensor([11, 12, 13])\n",
            "tensor([-9, -8, -7])\n",
            "tensor([0.1000, 0.2000, 0.3000])\n"
          ]
        }
      ],
      "source": [
        "# Built in Pytorch function\n",
        "print(torch.mul(tensor, 10))\n",
        "print(torch.add(tensor, 10))\n",
        "print(torch.sub(tensor, 10))\n",
        "print(torch.div(tensor, 10))"
      ]
    },
    {
      "cell_type": "markdown",
      "metadata": {
        "id": "LzNtfMrhACgF"
      },
      "source": [
        "## Matrix Multiplication\n",
        "\n",
        "Two main ways of performing multiplication in neural networks and deep learning:\n",
        "\n",
        "1. Element-wise Multiplication\n",
        "2. Matrix Multiplication (dot product)\n",
        "\n",
        "THere are two main rules that performing matrix multiplication needs to satisfy:\n",
        "1. The **inner dimenstions** must match:\n",
        "* `(3, 2) @ (3,2)` won't work\n",
        "* `(2,3) @ (3,2)` will work\n",
        "* `(3,2) @ (2,3)` will work\n",
        "\n",
        "2. The resulting matric has the shape of the **outer dimensions**:\n",
        "* `(2,3) @ (3,2)` -> `(2,2)`\n",
        "* `(3,2) @ (2,3)` -> `(3,3)`\n",
        "\n",
        "Note: @ refers to matrix multiplication (dot product)"
      ]
    },
    {
      "cell_type": "code",
      "execution_count": null,
      "metadata": {
        "id": "vLzIPxv62gH8"
      },
      "outputs": [],
      "source": [
        "# Won't work - intended\n",
        "# torch.matmul(torch.rand(3,2), torch.rand(3,2))"
      ]
    },
    {
      "cell_type": "code",
      "execution_count": null,
      "metadata": {
        "colab": {
          "base_uri": "https://localhost:8080/"
        },
        "id": "T7SXcSUf3dCy",
        "outputId": "5c3f240d-3158-43bf-ee26-ef0862283695"
      },
      "outputs": [
        {
          "output_type": "execute_result",
          "data": {
            "text/plain": [
              "tensor([[0.3560, 0.0438, 0.7806],\n",
              "        [0.6965, 0.3724, 1.0073],\n",
              "        [0.5199, 0.3449, 0.6305]])"
            ]
          },
          "metadata": {},
          "execution_count": 41
        }
      ],
      "source": [
        "# Will work\n",
        "torch.matmul(torch.rand(3,2), torch.rand(2,3))"
      ]
    },
    {
      "cell_type": "code",
      "execution_count": null,
      "metadata": {
        "colab": {
          "base_uri": "https://localhost:8080/"
        },
        "id": "rTgUVeWO30cc",
        "outputId": "50d8732a-973f-43c5-abb7-e50fbfc5e173"
      },
      "outputs": [
        {
          "output_type": "execute_result",
          "data": {
            "text/plain": [
              "tensor([[0.3792, 0.1035],\n",
              "        [0.8022, 0.7795]])"
            ]
          },
          "metadata": {},
          "execution_count": 42
        }
      ],
      "source": [
        "# Will work\n",
        "torch.matmul(torch.rand(2,3), torch.rand(3,2))"
      ]
    },
    {
      "cell_type": "code",
      "execution_count": null,
      "metadata": {
        "colab": {
          "base_uri": "https://localhost:8080/"
        },
        "id": "HfR8HEf5AObh",
        "outputId": "7083f8c0-02f0-464d-c2f8-703c69faae65"
      },
      "outputs": [
        {
          "output_type": "stream",
          "name": "stdout",
          "text": [
            "tensor([1, 2, 3]) * tensor([1, 2, 3])\n",
            "Equals: tensor([1, 4, 9])\n"
          ]
        }
      ],
      "source": [
        "# Element wise multiplication\n",
        "print(tensor, \"*\", tensor)\n",
        "print(f\"Equals: {tensor * tensor}\")"
      ]
    },
    {
      "cell_type": "code",
      "execution_count": null,
      "metadata": {
        "colab": {
          "base_uri": "https://localhost:8080/"
        },
        "id": "tSl0gkPCAjSo",
        "outputId": "603cb69b-7062-4f2e-9b79-2b2795cc259c"
      },
      "outputs": [
        {
          "output_type": "execute_result",
          "data": {
            "text/plain": [
              "tensor(14)"
            ]
          },
          "metadata": {},
          "execution_count": 44
        }
      ],
      "source": [
        "# Matrix multiplication - Dot Product using built-in fuction (1+4+9)\n",
        "torch.matmul(tensor, tensor)"
      ]
    },
    {
      "cell_type": "code",
      "execution_count": null,
      "metadata": {
        "id": "YYXTYMrAYYnd",
        "colab": {
          "base_uri": "https://localhost:8080/"
        },
        "outputId": "18195006-840d-40a8-a2b5-0f78b07207fa"
      },
      "outputs": [
        {
          "output_type": "execute_result",
          "data": {
            "text/plain": [
              "tensor([1, 2, 3])"
            ]
          },
          "metadata": {},
          "execution_count": 45
        }
      ],
      "source": [
        "tensor"
      ]
    },
    {
      "cell_type": "code",
      "execution_count": null,
      "metadata": {
        "id": "xqB1FenEA76a",
        "colab": {
          "base_uri": "https://localhost:8080/"
        },
        "outputId": "da9d6d5a-8219-4eaf-97df-fe919716cba5"
      },
      "outputs": [
        {
          "output_type": "execute_result",
          "data": {
            "text/plain": [
              "14"
            ]
          },
          "metadata": {},
          "execution_count": 46
        }
      ],
      "source": [
        "# Matrix multiplication by hand\n",
        "1*1 + 2*2 + 3*3"
      ]
    },
    {
      "cell_type": "code",
      "execution_count": null,
      "metadata": {
        "id": "hwMqWOE02H61",
        "colab": {
          "base_uri": "https://localhost:8080/"
        },
        "outputId": "f0c0cdda-ece7-406b-ccb8-a4bbfcf79afd"
      },
      "outputs": [
        {
          "output_type": "execute_result",
          "data": {
            "text/plain": [
              "tensor(14)"
            ]
          },
          "metadata": {},
          "execution_count": 47
        }
      ],
      "source": [
        "tensor @ tensor"
      ]
    },
    {
      "cell_type": "code",
      "execution_count": null,
      "metadata": {
        "id": "ROZNz7D40Rcq",
        "colab": {
          "base_uri": "https://localhost:8080/"
        },
        "outputId": "ac164d10-9c8f-49d9-fabd-83a4aca18cf9"
      },
      "outputs": [
        {
          "output_type": "execute_result",
          "data": {
            "text/plain": [
              "tensor([1, 2, 3])"
            ]
          },
          "metadata": {},
          "execution_count": 48
        }
      ],
      "source": [
        "tensor"
      ]
    },
    {
      "cell_type": "code",
      "execution_count": null,
      "metadata": {
        "id": "JUHrJUseMLWr",
        "colab": {
          "base_uri": "https://localhost:8080/",
          "height": 124
        },
        "outputId": "11ada045-e36e-44a4-82a9-257f568bbfb6"
      },
      "outputs": [
        {
          "output_type": "error",
          "ename": "TypeError",
          "evalue": "'Tensor' object is not callable",
          "traceback": [
            "\u001b[0;31m---------------------------------------------------------------------------\u001b[0m",
            "\u001b[0;31mTypeError\u001b[0m                                 Traceback (most recent call last)",
            "\u001b[0;32m<timed exec>\u001b[0m in \u001b[0;36m<module>\u001b[0;34m\u001b[0m\n",
            "\u001b[0;31mTypeError\u001b[0m: 'Tensor' object is not callable"
          ]
        }
      ],
      "source": [
        "## Won't work - unintended (not sure why)\n",
        "%%time\n",
        "value = 0\n",
        "for i in range(len(tensor)):\n",
        "    value += tensor[i] * tensor[i]\n",
        "value"
      ]
    },
    {
      "cell_type": "code",
      "execution_count": null,
      "metadata": {
        "id": "Fv4XcD4P0mdq",
        "colab": {
          "base_uri": "https://localhost:8080/"
        },
        "outputId": "23bb9fae-f108-4101-f681-1635bf4c4c61"
      },
      "outputs": [
        {
          "output_type": "stream",
          "name": "stdout",
          "text": [
            "CPU times: user 1.07 ms, sys: 12 µs, total: 1.08 ms\n",
            "Wall time: 4 ms\n"
          ]
        },
        {
          "output_type": "execute_result",
          "data": {
            "text/plain": [
              "tensor(14)"
            ]
          },
          "metadata": {},
          "execution_count": 50
        }
      ],
      "source": [
        "%%time\n",
        "torch.matmul(tensor,tensor)"
      ]
    },
    {
      "cell_type": "markdown",
      "metadata": {
        "id": "2OF0yVeI1jYO"
      },
      "source": [
        "## One of the most common errors in deep learning is shape errors"
      ]
    },
    {
      "cell_type": "code",
      "execution_count": null,
      "metadata": {
        "id": "2m4nOvmg4mrw",
        "colab": {
          "base_uri": "https://localhost:8080/"
        },
        "outputId": "51a9789d-0371-4c0e-b06f-ae494056b062"
      },
      "outputs": [
        {
          "output_type": "execute_result",
          "data": {
            "text/plain": [
              "(torch.Size([3, 2]), torch.Size([3, 2]))"
            ]
          },
          "metadata": {},
          "execution_count": 51
        }
      ],
      "source": [
        "# Shapes for matrix multiplication\n",
        "tensor_A = torch.tensor([[1,2],\n",
        "                        [3,4],\n",
        "                        [5,6]])\n",
        "\n",
        "tensor_B = torch.tensor([[7,10],\n",
        "                        [8,11],\n",
        "                        [9,12]])\n",
        "\n",
        "tensor_A.shape, tensor_B.shape\n"
      ]
    },
    {
      "cell_type": "code",
      "execution_count": null,
      "metadata": {
        "id": "yZ7jboow5bAF"
      },
      "outputs": [],
      "source": [
        "# Won't work\n",
        "# torch.mm(tensor_A, tensor_B) # torch.mm same as torch.matmul"
      ]
    },
    {
      "cell_type": "markdown",
      "metadata": {
        "id": "X0nPVXas5jvt"
      },
      "source": [
        "We cannot multiply these two tensors because they have the same shape.\n",
        "\n",
        "To fix our tensor shape issues, we can manipulate the shape of one of our tensors using a **transpose**\n",
        "\n",
        "A **transpose** switches the axes or dimensions of a given tensor"
      ]
    },
    {
      "cell_type": "code",
      "execution_count": null,
      "metadata": {
        "id": "ffbAb62O6F68",
        "colab": {
          "base_uri": "https://localhost:8080/"
        },
        "outputId": "64ca75e8-2e51-43f7-d334-f1dd064c57d9"
      },
      "outputs": [
        {
          "output_type": "execute_result",
          "data": {
            "text/plain": [
              "(tensor([[ 7, 10],\n",
              "         [ 8, 11],\n",
              "         [ 9, 12]]),\n",
              " torch.Size([3, 2]))"
            ]
          },
          "metadata": {},
          "execution_count": 53
        }
      ],
      "source": [
        "tensor_B, tensor_B.shape"
      ]
    },
    {
      "cell_type": "code",
      "execution_count": null,
      "metadata": {
        "id": "QmzihSPa6CXb",
        "colab": {
          "base_uri": "https://localhost:8080/"
        },
        "outputId": "c1a74311-ebfd-47c1-f562-902db1dbf0c4"
      },
      "outputs": [
        {
          "output_type": "execute_result",
          "data": {
            "text/plain": [
              "(tensor([[ 7,  8,  9],\n",
              "         [10, 11, 12]]),\n",
              " torch.Size([2, 3]))"
            ]
          },
          "metadata": {},
          "execution_count": 54
        }
      ],
      "source": [
        "tensor_B.T, tensor_B.T.shape"
      ]
    },
    {
      "cell_type": "code",
      "execution_count": null,
      "metadata": {
        "id": "zgpm-bs86dx-",
        "colab": {
          "base_uri": "https://localhost:8080/"
        },
        "outputId": "88af0f67-851a-494c-81bc-49f5624133aa"
      },
      "outputs": [
        {
          "output_type": "stream",
          "name": "stdout",
          "text": [
            "Original shapes: \n",
            " tensor_A = torch.Size([3, 2]), \n",
            " tensor_B = torch.Size([3, 2])\n",
            "\n",
            "New shapes: \n",
            " tensor_A = torch.Size([3, 2]), \n",
            " tensor_B = torch.Size([2, 3])\n",
            "\n",
            "Multiplying: torch.Size([3, 2]) @ torch.Size([2, 3]) - inner dimensions must match\n",
            "\n",
            "Output:\n",
            " tensor([[ 27,  30,  33],\n",
            "        [ 61,  68,  75],\n",
            "        [ 95, 106, 117]])\n",
            "\n",
            "Output shape: torch.Size([3, 3])\n"
          ]
        }
      ],
      "source": [
        "# The matrix multiplication operation works when tensor_B is transposed\n",
        "\n",
        "print(f\"Original shapes: \\n tensor_A = {tensor_A.shape}, \\n tensor_B = {tensor_B.shape}\")\n",
        "print(f\"\\nNew shapes: \\n tensor_A = {tensor_A.shape}, \\n tensor_B = {tensor_B.T.shape}\")\n",
        "\n",
        "print(f\"\\nMultiplying: {tensor_A.shape} @ {tensor_B.T.shape} - inner dimensions must match\")\n",
        "print(f\"\\nOutput:\\n {torch.matmul(tensor_A, tensor_B.T)}\")\n",
        "\n",
        "print(f\"\\nOutput shape: {torch.matmul(tensor_A, tensor_B.T).shape}\")\n"
      ]
    },
    {
      "cell_type": "markdown",
      "metadata": {
        "id": "fd8vArtW9m6c"
      },
      "source": [
        "## Finding the min, max, mean, sum etc (tensor aggregation)"
      ]
    },
    {
      "cell_type": "code",
      "execution_count": null,
      "metadata": {
        "id": "ZuetQxQW9s5d"
      },
      "outputs": [],
      "source": [
        "# Create a tensor\n",
        "x = torch.arange(0, 100, 10)"
      ]
    },
    {
      "cell_type": "code",
      "execution_count": null,
      "metadata": {
        "id": "aV2avUWW97gA",
        "colab": {
          "base_uri": "https://localhost:8080/"
        },
        "outputId": "a5c350a7-d294-4078-a2d3-6b0f1fc663c6"
      },
      "outputs": [
        {
          "output_type": "execute_result",
          "data": {
            "text/plain": [
              "(tensor(0), tensor(0))"
            ]
          },
          "metadata": {},
          "execution_count": 57
        }
      ],
      "source": [
        "# Find the min\n",
        "torch.min(x), x.min() # both syntax works"
      ]
    },
    {
      "cell_type": "code",
      "execution_count": null,
      "metadata": {
        "id": "BrDARL0Q-ech",
        "colab": {
          "base_uri": "https://localhost:8080/"
        },
        "outputId": "451b3ee1-ea4c-4d09-aec3-5bf9e68a316d"
      },
      "outputs": [
        {
          "output_type": "execute_result",
          "data": {
            "text/plain": [
              "(tensor(90), tensor(90))"
            ]
          },
          "metadata": {},
          "execution_count": 58
        }
      ],
      "source": [
        "# Find the max\n",
        "torch.max(x), x.max()"
      ]
    },
    {
      "cell_type": "code",
      "execution_count": null,
      "metadata": {
        "id": "V6kUuiBE-f09"
      },
      "outputs": [],
      "source": [
        "# Find the mean - won't work (intended)\n",
        "# torch.mean(x), x.mean()\n",
        "\n",
        "# This doesn't work as it not the correct datatype"
      ]
    },
    {
      "cell_type": "code",
      "execution_count": null,
      "metadata": {
        "id": "aE-pZ7Ml_8kH",
        "colab": {
          "base_uri": "https://localhost:8080/"
        },
        "outputId": "e5d58107-6f02-4e71-c2b0-1f793d1bc57a"
      },
      "outputs": [
        {
          "output_type": "execute_result",
          "data": {
            "text/plain": [
              "torch.int64"
            ]
          },
          "metadata": {},
          "execution_count": 60
        }
      ],
      "source": [
        "# The datatype of the tensor\n",
        "x.dtype\n",
        "\n",
        "# int64 is \"Long\"\n",
        "# the \"mean\" function can't work on tensors with dataype Long"
      ]
    },
    {
      "cell_type": "code",
      "execution_count": null,
      "metadata": {
        "id": "auPZB7TE_9wd",
        "colab": {
          "base_uri": "https://localhost:8080/"
        },
        "outputId": "e0add191-44fc-483c-934b-cc119a680324"
      },
      "outputs": [
        {
          "output_type": "execute_result",
          "data": {
            "text/plain": [
              "(tensor(45.), tensor(45.))"
            ]
          },
          "metadata": {},
          "execution_count": 61
        }
      ],
      "source": [
        "# The torch.mean() function requires a tensor of float32 datatype to work\n",
        "torch.mean(x.type(torch.float32)), x.type(torch.float32).mean()"
      ]
    },
    {
      "cell_type": "code",
      "execution_count": null,
      "metadata": {
        "id": "1ruXDQBW-hNc",
        "colab": {
          "base_uri": "https://localhost:8080/"
        },
        "outputId": "6a8f66e8-a33c-4887-98c5-002ebfd3dc11"
      },
      "outputs": [
        {
          "output_type": "execute_result",
          "data": {
            "text/plain": [
              "(tensor(450), tensor(450))"
            ]
          },
          "metadata": {},
          "execution_count": 62
        }
      ],
      "source": [
        "# Find the sum\n",
        "torch.sum(x), x.sum()"
      ]
    },
    {
      "cell_type": "markdown",
      "metadata": {
        "id": "jAQU1CXRBIE8"
      },
      "source": [
        "## Finding the positional min and max"
      ]
    },
    {
      "cell_type": "code",
      "execution_count": null,
      "metadata": {
        "id": "UpGUWGksBSWA",
        "colab": {
          "base_uri": "https://localhost:8080/"
        },
        "outputId": "d32ad96e-8641-4c2d-cdff-f03367ba8447"
      },
      "outputs": [
        {
          "output_type": "execute_result",
          "data": {
            "text/plain": [
              "tensor([ 1, 11, 21, 31, 41, 51, 61, 71, 81, 91])"
            ]
          },
          "metadata": {},
          "execution_count": 63
        }
      ],
      "source": [
        "x = torch.arange(1, 100, 10)\n",
        "x"
      ]
    },
    {
      "cell_type": "code",
      "execution_count": null,
      "metadata": {
        "id": "zVR0vph1BIu4",
        "colab": {
          "base_uri": "https://localhost:8080/"
        },
        "outputId": "6ddf6e8b-f144-43d5-daed-1cc6299c323c"
      },
      "outputs": [
        {
          "output_type": "execute_result",
          "data": {
            "text/plain": [
              "tensor(0)"
            ]
          },
          "metadata": {},
          "execution_count": 64
        }
      ],
      "source": [
        "# Find the position in tensor that has the minimum value with argmin() - returns index position of target tensor where minimum value occurs\n",
        "x.argmin()"
      ]
    },
    {
      "cell_type": "code",
      "execution_count": null,
      "metadata": {
        "id": "dTLMR99RB1CS",
        "colab": {
          "base_uri": "https://localhost:8080/"
        },
        "outputId": "51c46dcb-05f7-4e32-b572-8d82206107af"
      },
      "outputs": [
        {
          "output_type": "execute_result",
          "data": {
            "text/plain": [
              "tensor(1)"
            ]
          },
          "metadata": {},
          "execution_count": 65
        }
      ],
      "source": [
        "x[0]"
      ]
    },
    {
      "cell_type": "code",
      "execution_count": null,
      "metadata": {
        "id": "4kEOZwEHBNp4",
        "colab": {
          "base_uri": "https://localhost:8080/"
        },
        "outputId": "aeb18aa3-bbc3-439a-c5c9-503617348c7f"
      },
      "outputs": [
        {
          "output_type": "execute_result",
          "data": {
            "text/plain": [
              "tensor(9)"
            ]
          },
          "metadata": {},
          "execution_count": 66
        }
      ],
      "source": [
        "# Find the position in tensor that has the maximum value with argmax()\n",
        "x.argmax()"
      ]
    },
    {
      "cell_type": "code",
      "execution_count": null,
      "metadata": {
        "id": "Nx9VHs98B_Qo",
        "colab": {
          "base_uri": "https://localhost:8080/"
        },
        "outputId": "6d68044c-23a8-49c3-d42a-9dc59cff7900"
      },
      "outputs": [
        {
          "output_type": "execute_result",
          "data": {
            "text/plain": [
              "tensor(91)"
            ]
          },
          "metadata": {},
          "execution_count": 67
        }
      ],
      "source": [
        "x[9]"
      ]
    },
    {
      "cell_type": "markdown",
      "metadata": {
        "id": "_Ymgsp0MDea7"
      },
      "source": [
        "## Reshaping, viewing, stacking, squeezing, unsqueezing, permuting tensors\n",
        "\n",
        "* Reshaping - reshapes an input tensor to a defined shape\n",
        "* View - return a view of an input tensor of certain shape, but keep the same memory as the original tensor\n",
        "* Stacking - combine multiple tensors on top of each other (vstack - vertical stack) or side by side (hstack - horizontal stack)\n",
        "* Squeezing - removes all `1` dimensions from a tensor\n",
        "* Unsqueezing - adds a `1` dimentsions to a target tensor\n",
        "* Permuting - return a view of the input with dimensions permuted (swapped) in a certian way"
      ]
    },
    {
      "cell_type": "code",
      "execution_count": null,
      "metadata": {
        "colab": {
          "base_uri": "https://localhost:8080/"
        },
        "id": "TZZIvqeiEryu",
        "outputId": "0f269b41-c003-431a-f67e-1e2a1b5f1d19"
      },
      "outputs": [
        {
          "output_type": "execute_result",
          "data": {
            "text/plain": [
              "(tensor([1., 2., 3., 4., 5., 6., 7., 8., 9.]), torch.Size([9]))"
            ]
          },
          "metadata": {},
          "execution_count": 68
        }
      ],
      "source": [
        "# Create a tensor\n",
        "import torch\n",
        "\n",
        "x = torch.arange(1., 10.)\n",
        "x, x.shape"
      ]
    },
    {
      "cell_type": "code",
      "execution_count": null,
      "metadata": {
        "id": "-EYrzAdrE4Hz",
        "colab": {
          "base_uri": "https://localhost:8080/"
        },
        "outputId": "0065563f-7a9b-44c4-8885-e80b36eaebd1"
      },
      "outputs": [
        {
          "output_type": "execute_result",
          "data": {
            "text/plain": [
              "(tensor([[1., 2., 3., 4., 5., 6., 7., 8., 9.]]), torch.Size([1, 9]))"
            ]
          },
          "metadata": {},
          "execution_count": 69
        }
      ],
      "source": [
        "# Add an extra dimension\n",
        "x_reshaped = x.reshape(1,9)\n",
        "x_reshaped, x_reshaped.shape\n"
      ]
    },
    {
      "cell_type": "code",
      "source": [
        "# x_reshaped = x.reshape(3,3)"
      ],
      "metadata": {
        "id": "Fmpn9zDCwNLa"
      },
      "execution_count": null,
      "outputs": []
    },
    {
      "cell_type": "code",
      "execution_count": null,
      "metadata": {
        "id": "1A7btr2kE4FH",
        "colab": {
          "base_uri": "https://localhost:8080/"
        },
        "outputId": "a49a237a-9e85-41f5-d7a1-f5bf912edc5c"
      },
      "outputs": [
        {
          "output_type": "execute_result",
          "data": {
            "text/plain": [
              "(tensor([[1., 2., 3., 4., 5., 6., 7., 8., 9.]]), torch.Size([1, 9]))"
            ]
          },
          "metadata": {},
          "execution_count": 71
        }
      ],
      "source": [
        "# Change the view\n",
        "z = x.view(1,9)\n",
        "z, z.shape"
      ]
    },
    {
      "cell_type": "code",
      "execution_count": null,
      "metadata": {
        "id": "WvczXO_rE4Cd",
        "colab": {
          "base_uri": "https://localhost:8080/"
        },
        "outputId": "4826099c-800d-47aa-f212-8d932c1d6789"
      },
      "outputs": [
        {
          "output_type": "execute_result",
          "data": {
            "text/plain": [
              "(tensor([[5., 2., 3., 4., 5., 6., 7., 8., 9.]]),\n",
              " tensor([5., 2., 3., 4., 5., 6., 7., 8., 9.]))"
            ]
          },
          "metadata": {},
          "execution_count": 72
        }
      ],
      "source": [
        "# Changing z changes x as a view of a tnsor shares the same memory as the original input\n",
        "z[:,0] = 5\n",
        "z, x\n",
        "\n",
        "# Because we change the first value of z, it also changed for x"
      ]
    },
    {
      "cell_type": "code",
      "execution_count": null,
      "metadata": {
        "id": "gQ1anyuSE4AQ",
        "colab": {
          "base_uri": "https://localhost:8080/"
        },
        "outputId": "1061cabf-00bb-4579-9780-428b7de5d343"
      },
      "outputs": [
        {
          "output_type": "execute_result",
          "data": {
            "text/plain": [
              "tensor([[5., 2., 3., 4., 5., 6., 7., 8., 9.],\n",
              "        [5., 2., 3., 4., 5., 6., 7., 8., 9.],\n",
              "        [5., 2., 3., 4., 5., 6., 7., 8., 9.],\n",
              "        [5., 2., 3., 4., 5., 6., 7., 8., 9.]])"
            ]
          },
          "metadata": {},
          "execution_count": 73
        }
      ],
      "source": [
        "# Stack tensors on top of each other\n",
        "x_stacked = torch.stack([x, x, x, x])\n",
        "x_stacked\n",
        "\n",
        "# By default the dimension is 0"
      ]
    },
    {
      "cell_type": "code",
      "execution_count": null,
      "metadata": {
        "id": "drOokM-jE3-C",
        "colab": {
          "base_uri": "https://localhost:8080/"
        },
        "outputId": "0e963889-581f-4a78-f4c6-4b564117e1df"
      },
      "outputs": [
        {
          "output_type": "execute_result",
          "data": {
            "text/plain": [
              "tensor([[5., 5., 5., 5.],\n",
              "        [2., 2., 2., 2.],\n",
              "        [3., 3., 3., 3.],\n",
              "        [4., 4., 4., 4.],\n",
              "        [5., 5., 5., 5.],\n",
              "        [6., 6., 6., 6.],\n",
              "        [7., 7., 7., 7.],\n",
              "        [8., 8., 8., 8.],\n",
              "        [9., 9., 9., 9.]])"
            ]
          },
          "metadata": {},
          "execution_count": 74
        }
      ],
      "source": [
        "# Stack tensors on top of each other\n",
        "x_stacked = torch.stack([x, x, x, x], dim = 1)\n",
        "x_stacked\n",
        "\n",
        "# By default the dimension is 1"
      ]
    },
    {
      "cell_type": "code",
      "source": [
        "# torch.squeeze () - removes all single dimensions from a target tensor\n",
        "# https://pytorch.org/docs/stable/generated/torch.squeeze.html\n",
        "\n",
        "print(f\"Previous tensor: {x_reshaped}\")\n",
        "print(f\"Previous shape: {x_reshaped.shape}\")\n",
        "\n",
        "# Remove extra dimensions from x_reshaped\n",
        "x_squeezed = x_reshaped.squeeze()\n",
        "print(f\"\\nNew tensor:{x_squeezed}\")\n",
        "print(f\"New shape: {x_squeezed.shape}\")"
      ],
      "metadata": {
        "colab": {
          "base_uri": "https://localhost:8080/"
        },
        "id": "s84gkL30u9k9",
        "outputId": "a2923847-1127-40bc-e8ba-b1ecfe986079"
      },
      "execution_count": null,
      "outputs": [
        {
          "output_type": "stream",
          "name": "stdout",
          "text": [
            "Previous tensor: tensor([[5., 2., 3., 4., 5., 6., 7., 8., 9.]])\n",
            "Previous shape: torch.Size([1, 9])\n",
            "\n",
            "New tensor:tensor([5., 2., 3., 4., 5., 6., 7., 8., 9.])\n",
            "New shape: torch.Size([9])\n"
          ]
        }
      ]
    },
    {
      "cell_type": "code",
      "source": [
        "# torch.unsqueeze() - adds a single dimension to a target tensor at a specific dim (dimension)\n",
        "print(f\"Previous tensor: {x_squeezed}\")\n",
        "print(f\"Previous shape: {x_squeezed.shape}\")\n",
        "\n",
        "# Add an extra dimension with unsqueeze\n",
        "x_unsqueezed = x_squeezed.unsqueeze(dim=0)\n",
        "print(f\"\\nNew tensor: {x_unsqueezed}\")\n",
        "print(f\"New shape: {x_unsqueezed.shape}\")"
      ],
      "metadata": {
        "colab": {
          "base_uri": "https://localhost:8080/"
        },
        "id": "gx5z_c9cu9jW",
        "outputId": "8662dd9a-1a40-49ed-8633-7747342824e1"
      },
      "execution_count": null,
      "outputs": [
        {
          "output_type": "stream",
          "name": "stdout",
          "text": [
            "Previous tensor: tensor([5., 2., 3., 4., 5., 6., 7., 8., 9.])\n",
            "Previous shape: torch.Size([9])\n",
            "\n",
            "New tensor: tensor([[5., 2., 3., 4., 5., 6., 7., 8., 9.]])\n",
            "New shape: torch.Size([1, 9])\n"
          ]
        }
      ]
    },
    {
      "cell_type": "code",
      "source": [
        "# torch.permute - rearranges the dimensions of a target tensor in a specified order\n",
        "x_original = torch.rand(size=(224, 224, 3)) # height, width, colour channels\n",
        "\n",
        "# Permute the original tensor to rearrage the axis (or dimension) order\n",
        "x_permuted = torch.permute(x_original, (2, 0, 1)) # shifts axis\n",
        "# x_permuted = x_original.permute(2, 0, 1) - also works\n",
        "\n",
        "print(f\"Original shape: {x_original.shape}\")\n",
        "print(f\"New shape: {x_permuted.shape}\") # colour channels, height, width"
      ],
      "metadata": {
        "colab": {
          "base_uri": "https://localhost:8080/"
        },
        "id": "ulJVGTdbu9hf",
        "outputId": "7dc6a660-1e7c-4261-de4e-d51944298500"
      },
      "execution_count": null,
      "outputs": [
        {
          "output_type": "stream",
          "name": "stdout",
          "text": [
            "Original shape: torch.Size([224, 224, 3])\n",
            "New shape: torch.Size([3, 224, 224])\n"
          ]
        }
      ]
    },
    {
      "cell_type": "markdown",
      "source": [],
      "metadata": {
        "id": "unYltC9f9TvZ"
      }
    },
    {
      "cell_type": "code",
      "source": [
        "# Since permute is a view, x_permuted shares the same memory as x_original. Therefore, chaning x original also changes x permuted\n",
        "\n",
        "x_permuted[0, 0, 0] = 100\n",
        "\n",
        "x_original[0, 0, 0]"
      ],
      "metadata": {
        "colab": {
          "base_uri": "https://localhost:8080/"
        },
        "id": "CcAJh6Knu9f8",
        "outputId": "26f01be9-24c8-4700-f630-66a3d9dad540"
      },
      "execution_count": null,
      "outputs": [
        {
          "output_type": "execute_result",
          "data": {
            "text/plain": [
              "tensor(100.)"
            ]
          },
          "metadata": {},
          "execution_count": 78
        }
      ]
    },
    {
      "cell_type": "markdown",
      "source": [
        "## Indexing (selecting data from tensors)\n",
        "\n",
        "Indexing with PyTorch is similar to indexing with NumPy."
      ],
      "metadata": {
        "id": "w9hN07gaEeof"
      }
    },
    {
      "cell_type": "code",
      "source": [
        "# Create a tensor\n",
        "\n",
        "import torch\n",
        "\n",
        "x = torch.arange(1, 10). reshape(1, 3, 3)\n",
        "x, x.shape"
      ],
      "metadata": {
        "colab": {
          "base_uri": "https://localhost:8080/"
        },
        "id": "sHejDP-RE2vR",
        "outputId": "09a93648-2cef-4dc6-bafe-cf3cccf4fe2c"
      },
      "execution_count": null,
      "outputs": [
        {
          "output_type": "execute_result",
          "data": {
            "text/plain": [
              "(tensor([[[1, 2, 3],\n",
              "          [4, 5, 6],\n",
              "          [7, 8, 9]]]),\n",
              " torch.Size([1, 3, 3]))"
            ]
          },
          "metadata": {},
          "execution_count": 84
        }
      ]
    },
    {
      "cell_type": "code",
      "source": [
        "# Index on the first bracket\n",
        "x[0]"
      ],
      "metadata": {
        "colab": {
          "base_uri": "https://localhost:8080/"
        },
        "id": "SAYZF4QFE6To",
        "outputId": "98d7fee6-aee2-4b10-d556-0328ba54508a"
      },
      "execution_count": null,
      "outputs": [
        {
          "output_type": "execute_result",
          "data": {
            "text/plain": [
              "tensor([[1, 2, 3],\n",
              "        [4, 5, 6],\n",
              "        [7, 8, 9]])"
            ]
          },
          "metadata": {},
          "execution_count": 89
        }
      ]
    },
    {
      "cell_type": "code",
      "source": [
        "# Index on the middle bracket (dim= 1)\n",
        "x[0][0]\n",
        "# x[0, 0] works too!"
      ],
      "metadata": {
        "colab": {
          "base_uri": "https://localhost:8080/"
        },
        "id": "sbFhSiLAE6Re",
        "outputId": "d6910270-af9a-4c2f-8f47-16c46f1fee0d"
      },
      "execution_count": null,
      "outputs": [
        {
          "output_type": "execute_result",
          "data": {
            "text/plain": [
              "tensor([1, 2, 3])"
            ]
          },
          "metadata": {},
          "execution_count": 90
        }
      ]
    },
    {
      "cell_type": "code",
      "source": [
        "# Let's index on the middle bracket (dim= 2)\n",
        "x[0][0][0]"
      ],
      "metadata": {
        "colab": {
          "base_uri": "https://localhost:8080/"
        },
        "id": "NAGUBGYRE6PH",
        "outputId": "cbfe9be2-f4b4-4e58-bf13-023711296826"
      },
      "execution_count": null,
      "outputs": [
        {
          "output_type": "execute_result",
          "data": {
            "text/plain": [
              "tensor(1)"
            ]
          },
          "metadata": {},
          "execution_count": 91
        }
      ]
    },
    {
      "cell_type": "code",
      "source": [],
      "metadata": {
        "id": "3UvMJURVE6M9"
      },
      "execution_count": null,
      "outputs": []
    },
    {
      "cell_type": "code",
      "source": [],
      "metadata": {
        "id": "FgtlXDPBE6Kp"
      },
      "execution_count": null,
      "outputs": []
    },
    {
      "cell_type": "code",
      "source": [],
      "metadata": {
        "id": "gjLjUoO4E5wJ"
      },
      "execution_count": null,
      "outputs": []
    }
  ],
  "metadata": {
    "colab": {
      "provenance": [],
      "authorship_tag": "ABX9TyMUFAwDQ5lcgKy8Jq23FzlV",
      "include_colab_link": true
    },
    "kernelspec": {
      "display_name": "Python 3",
      "name": "python3"
    },
    "language_info": {
      "name": "python"
    }
  },
  "nbformat": 4,
  "nbformat_minor": 0
}